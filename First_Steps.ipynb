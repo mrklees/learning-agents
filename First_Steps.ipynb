{
  "nbformat": 4,
  "nbformat_minor": 0,
  "metadata": {
    "colab": {
      "name": "First Steps.ipynb",
      "version": "0.3.2",
      "provenance": [],
      "include_colab_link": true
    },
    "kernelspec": {
      "name": "python3",
      "display_name": "Python 3"
    },
    "accelerator": "TPU"
  },
  "cells": [
    {
      "cell_type": "markdown",
      "metadata": {
        "id": "view-in-github",
        "colab_type": "text"
      },
      "source": [
        "<a href=\"https://colab.research.google.com/github/mrklees/learning-agents/blob/master/First_Steps.ipynb\" target=\"_parent\"><img src=\"https://colab.research.google.com/assets/colab-badge.svg\" alt=\"Open In Colab\"/></a>"
      ]
    },
    {
      "metadata": {
        "id": "Ghs9pvEeB6i4",
        "colab_type": "text"
      },
      "cell_type": "markdown",
      "source": [
        "# First Steps into RL\n",
        "\n",
        "As a getting started, let's walk through the [tutorial written by Arthur Juliani on Medium.](https://medium.com/emergent-future/simple-reinforcement-learning-with-tensorflow-part-0-q-learning-with-tables-and-neural-networks-d195264329d0)  It will give us a nice, practical orientation to the subject.  It focuses on using games from the OpenAI gym as a testing ground.  \n",
        "\n",
        "## First Algorithm: Q-Learning with a table of values\n",
        "In these first few notebooks we will be learning about the Q-Learning algorithm. The first example is the simplest case, and doesn't even use a neural network, but will hopefully give us a bit of intuition about what later implementations of the algorithm are doing.\n",
        "\n",
        "So how does the algorithm work.  Our Q-table maps every possible state/action combination to a reward. Each state is encoded in the rows and actions in the columns.  This becomes more concrete if we introduce our game: Frozen Lake. \n",
        "\n",
        "Frozen Lake is a game consisting of a 4 by 4 grid.  Our agent is placed on one side of the grid and must navigate the grid to a goal across the grid. There are some obstacles as well which kill the agent upon running into them.\n",
        "\n",
        "The Q-Table will clearly be (4x4=) 16 rows (denoted $s$) with 4 columns (denoted $a$), which we will initialize at 0.  It is then updated after each step per the Bellman equation.  \n",
        "\n",
        "$$ Q(s, a) = r + \\gamma(max(Q(s', a')) $$\n",
        "\n",
        "In English, this says that the value of each entry in the table, $Q(s, a)$, is given by the current known reward $r$ plus the maximum possible reward for the next state ($s'$) we would end up in. $\\gamma$ serves as a discount rate, which gives a dial to scale how important future rewards are compared to the present reward."
      ]
    },
    {
      "metadata": {
        "id": "CRZzH1rTB-Zy",
        "colab_type": "code",
        "colab": {}
      },
      "cell_type": "code",
      "source": [
        "# lol, gym is already installed in the Collab environment\n",
        "import gym\n",
        "import numpy as np\n",
        "import pandas as pd"
      ],
      "execution_count": 0,
      "outputs": []
    },
    {
      "metadata": {
        "id": "DC5clYPcC0H4",
        "colab_type": "code",
        "colab": {}
      },
      "cell_type": "code",
      "source": [
        "env = gym.make(\"FrozenLake-v0\")"
      ],
      "execution_count": 0,
      "outputs": []
    },
    {
      "metadata": {
        "id": "oNGLFqvOCb0e",
        "colab_type": "text"
      },
      "cell_type": "markdown",
      "source": [
        "## Q- Table Learning Algorithm"
      ]
    },
    {
      "metadata": {
        "id": "p4KN6ucLCzTd",
        "colab_type": "code",
        "colab": {}
      },
      "cell_type": "code",
      "source": [
        "# gym nicely tells us how many possible states and actions there are\n",
        "n_states, n_actions = env.observation_space.n, env.action_space.n"
      ],
      "execution_count": 0,
      "outputs": []
    },
    {
      "metadata": {
        "id": "fkvMXSbNESmY",
        "colab_type": "code",
        "colab": {
          "base_uri": "https://localhost:8080/",
          "height": 408
        },
        "outputId": "319f54a5-ca1f-4eab-d8d8-3ff57987f772"
      },
      "cell_type": "code",
      "source": [
        "env.reset()\n",
        "\n",
        "env.env.render()\n",
        "\n",
        "print(env.step(0))\n",
        "\n",
        "env.env.render()\n",
        "\n",
        "print(env.step(0))\n",
        "\n",
        "env.env.render()\n",
        "\n",
        "print(env.step(0))\n",
        "\n",
        "env.env.render()"
      ],
      "execution_count": 50,
      "outputs": [
        {
          "output_type": "stream",
          "text": [
            "\n",
            "\u001b[41mS\u001b[0mFFF\n",
            "FHFH\n",
            "FFFH\n",
            "HFFG\n",
            "(0, 0.0, False, {'prob': 0.3333333333333333})\n",
            "  (Left)\n",
            "\u001b[41mS\u001b[0mFFF\n",
            "FHFH\n",
            "FFFH\n",
            "HFFG\n",
            "(0, 0.0, False, {'prob': 0.3333333333333333})\n",
            "  (Left)\n",
            "\u001b[41mS\u001b[0mFFF\n",
            "FHFH\n",
            "FFFH\n",
            "HFFG\n",
            "(4, 0.0, False, {'prob': 0.3333333333333333})\n",
            "  (Left)\n",
            "SFFF\n",
            "\u001b[41mF\u001b[0mHFH\n",
            "FFFH\n",
            "HFFG\n"
          ],
          "name": "stdout"
        }
      ]
    },
    {
      "metadata": {
        "id": "sSHBtGASFXJz",
        "colab_type": "code",
        "colab": {
          "base_uri": "https://localhost:8080/",
          "height": 34
        },
        "outputId": "bf1898e4-56f2-43e4-c702-3b7462554022"
      },
      "cell_type": "code",
      "source": [
        "np.random.randn(1, n_actions)*(1./(1000+1))"
      ],
      "execution_count": 38,
      "outputs": [
        {
          "output_type": "execute_result",
          "data": {
            "text/plain": [
              "array([[ 0.00091367, -0.00082924, -0.00064851,  0.0002012 ]])"
            ]
          },
          "metadata": {
            "tags": []
          },
          "execution_count": 38
        }
      ]
    },
    {
      "metadata": {
        "id": "Gat9iFJAC3LY",
        "colab_type": "code",
        "colab": {
          "base_uri": "https://localhost:8080/",
          "height": 323
        },
        "outputId": "d81be3b8-6136-4220-a73a-c94c7fa59c78"
      },
      "cell_type": "code",
      "source": [
        "# We initialize the values at 0 for all state/actions\n",
        "Q = np.zeros([n_states, n_actions])\n",
        "\n",
        "# Learning Parameters\n",
        "lr = 0.8 # scales the step we take to update our table\n",
        "y = 0.95 # The discount rate used in the Bellman Equation\n",
        "num_episodes = 2000 # number of times to train on the env\n",
        "max_timesteps = 99 # max number of tries to solve the puzzle in one episode\n",
        "# Track the rewards by episode\n",
        "r_trace = []\n",
        "for i in range(num_episodes):\n",
        "    # Reset environment and get first new observation\n",
        "    s = env.reset()\n",
        "    r_all = 0\n",
        "    d = False\n",
        "    j = 0\n",
        "    # The Q-Table learning algorithm\n",
        "    for j in range(max_timesteps):\n",
        "        # Choose the best action from the Q-table, though allow for some noise.\n",
        "        # Notice that the (1 / (i+1)) term shrinks the noise values as the number\n",
        "        # of episodes increases.  Quite similar to the idea in simulated annealing!\n",
        "        a = np.argmax(Q[s,:] + np.random.randn(1, n_actions)*(1./(i+1)))\n",
        "        # Get new state and reward from the environment\n",
        "        s1, r, done, _ = env.step(a)\n",
        "        # Update Q-Table with new knowledge\n",
        "        Q[s, a] = Q[s, a] + lr*(r + y*np.max(Q[s1, :]) - Q[s, a])\n",
        "        r_all += r\n",
        "        s = s1\n",
        "        if done:\n",
        "            #print(f\"Episode finished after {j+1} timesteps\")\n",
        "            break\n",
        "    r_trace.append(r_all)\n",
        "\n",
        "trace = pd.DataFrame(dict(rewards = r_trace))\n",
        "print(f\"Score over time: {sum(r_trace)/num_episodes}\")\n",
        "print(\"Final Q-Table Values\")\n",
        "print(Q)"
      ],
      "execution_count": 69,
      "outputs": [
        {
          "output_type": "stream",
          "text": [
            "Score over time: 0.53\n",
            "Final Q-Table Values\n",
            "[[2.75209132e-01 4.70601114e-03 5.57505785e-03 7.69132537e-03]\n",
            " [1.05648590e-03 4.49649833e-04 1.88650298e-03 1.61839381e-01]\n",
            " [1.07919332e-03 8.99755052e-04 2.92565520e-03 1.49104865e-01]\n",
            " [1.41755535e-04 0.00000000e+00 3.49782728e-04 8.38215713e-02]\n",
            " [4.98965013e-01 0.00000000e+00 0.00000000e+00 0.00000000e+00]\n",
            " [0.00000000e+00 0.00000000e+00 0.00000000e+00 0.00000000e+00]\n",
            " [1.08272609e-02 1.54206891e-04 1.92847537e-04 3.05503075e-05]\n",
            " [0.00000000e+00 0.00000000e+00 0.00000000e+00 0.00000000e+00]\n",
            " [0.00000000e+00 0.00000000e+00 0.00000000e+00 5.92021800e-01]\n",
            " [0.00000000e+00 6.82157567e-01 4.44141869e-03 0.00000000e+00]\n",
            " [1.08055756e-01 2.88248371e-04 4.09911225e-04 7.70410126e-04]\n",
            " [0.00000000e+00 0.00000000e+00 0.00000000e+00 0.00000000e+00]\n",
            " [0.00000000e+00 0.00000000e+00 0.00000000e+00 0.00000000e+00]\n",
            " [4.35170401e-03 4.88804738e-03 9.04738048e-01 0.00000000e+00]\n",
            " [0.00000000e+00 0.00000000e+00 4.53986229e-01 6.96127971e-03]\n",
            " [0.00000000e+00 0.00000000e+00 0.00000000e+00 0.00000000e+00]]\n"
          ],
          "name": "stdout"
        }
      ]
    },
    {
      "metadata": {
        "id": "_TmDhRQ4JwXK",
        "colab_type": "code",
        "colab": {
          "base_uri": "https://localhost:8080/",
          "height": 364
        },
        "outputId": "84f2a996-d006-41b1-c5f5-f67f577dcbad"
      },
      "cell_type": "code",
      "source": [
        "# Rolling average over how frequently the agent found a reward. \n",
        "trace.rolling(50).mean().plot()"
      ],
      "execution_count": 71,
      "outputs": [
        {
          "output_type": "execute_result",
          "data": {
            "text/plain": [
              "<matplotlib.axes._subplots.AxesSubplot at 0x7f5c9bbaa668>"
            ]
          },
          "metadata": {
            "tags": []
          },
          "execution_count": 71
        },
        {
          "output_type": "display_data",
          "data": {
            "image/png": "[encoded data removed]",
            "text/plain": [
              "<Figure size 576x396 with 1 Axes>"
            ]
          },
          "metadata": {
            "tags": []
          }
        }
      ]
    },
    {
      "metadata": {
        "id": "yYeF_aBrKMGK",
        "colab_type": "text"
      },
      "cell_type": "markdown",
      "source": [
        "### For the future\n",
        "Running this a few times and watching the trace, it is easy to see the stochastic nature of the agents.  Multiple runs don't necessarily converge with only 2000 episodes. There are also built in parameters, like the discount rate, which we could vary in order to vary the agent.  Which are the optimal parameter values is not at all clear.\n",
        "\n",
        "When we revisit this, we will try to refactor the code to more easily allow us to explore the space of possible agents.\n",
        "\n",
        "## Neural Network based approach\n",
        "\n",
        "There are clear limitation to the scalability of a table-like approach like the one above.  A neural network will more flexibly allow us to map sets of discrete (or continuous) states to reward values, and optimize the network in a way that we're already familiar. "
      ]
    },
    {
      "metadata": {
        "id": "r_N0hJAfPD03",
        "colab_type": "code",
        "colab": {}
      },
      "cell_type": "code",
      "source": [
        "import random\n",
        "import tensorflow as tf\n",
        "import matplotlib.pyplot as plt\n",
        "%matplotlib inline"
      ],
      "execution_count": 0,
      "outputs": []
    },
    {
      "metadata": {
        "id": "457NDrt6PS7w",
        "colab_type": "code",
        "colab": {}
      },
      "cell_type": "code",
      "source": [
        "class QNetwork:\n",
        "    def __init__(self, learning_rate=0.01, state_size=16, action_size=4, \n",
        "                 hidden_size=10, name=\"QNetwork\"):\n",
        "        with tf.variable_scope(name):\n",
        "            # In this case we encode the input state as a one-hot encoded vector\n",
        "            self.inputs_ = tf.placeholder(tf.float32, [None, state_size], name='inputs')\n",
        "\n",
        "            # One hot encode the actions to later choose the Q-value for the action\n",
        "            self.actions_ = tf.placeholder(tf.int32, [None], name='actions')\n",
        "            one_hot_actions = tf.one_hot(self.actions_, action_size)\n",
        "\n",
        "            # Target Q values for training\n",
        "            self.targetQs_ = tf.placeholder(tf.float32, [None], name='target')\n",
        "\n",
        "            # ReLU hidden layers\n",
        "            self.fc1 = tf.contrib.layers.fully_connected(self.inputs_, hidden_size)\n",
        "            self.fc2 = tf.contrib.layers.fully_connected(self.fc1, hidden_size)\n",
        "\n",
        "            # Output with linear activate (remember we want predictions of reward, not probabilities)\n",
        "            self.output = tf.contrib.layers.fully_connected(self.fc2, action_size, activation_fn=None)\n",
        "\n",
        "            # Optimization\n",
        "            self.Q = tf.reduce_sum(tf.multiply(self.output, one_hot_actions), axis=1)\n",
        "\n",
        "            self.loss = tf.reduce_mean(tf.square(self.targetQs_  - self.Q))\n",
        "            self.opt = tf.train.AdamOptimizer(learning_rate).minimize(self.loss)"
      ],
      "execution_count": 0,
      "outputs": []
    },
    {
      "metadata": {
        "id": "c7QbfibTW8CX",
        "colab_type": "code",
        "colab": {}
      },
      "cell_type": "code",
      "source": [
        "# Hyperparameters\n",
        "\n",
        "# Learning Parameters\n",
        "num_episodes = 1000\n",
        "max_timesteps = 99\n",
        "y = 0.99\n",
        "\n",
        "# Exploration Paramters\n",
        "explore_start = 1.0     # What's the starting probability we perform a random move\n",
        "explore_stop = 0.01     # Minimum probability \n",
        "decay_rate = 0.0001     # Rate at which we decay to the the minimum\n",
        "\n",
        "# Network Parameters\n",
        "hidden_size = 64        # Size of the hidden layer in the Q-network\n",
        "learning_rate = 0.0001  # Learning rate of our optimizer\n",
        "\n",
        "# Memory Paramters\n",
        "memory_size = 10000\n",
        "batch_size = 20"
      ],
      "execution_count": 0,
      "outputs": []
    },
    {
      "metadata": {
        "id": "J9iNvGd3WViB",
        "colab_type": "code",
        "colab": {}
      },
      "cell_type": "code",
      "source": [
        "# Reset the graph\n",
        "tf.reset_default_graph()\n",
        "qnet = QNetwork(name='main', hidden_size=hidden_size, learning_rate=learning_rate)"
      ],
      "execution_count": 0,
      "outputs": []
    },
    {
      "metadata": {
        "id": "apXv35ZBSKOI",
        "colab_type": "code",
        "colab": {}
      },
      "cell_type": "code",
      "source": [
        "#create lists to contain total rewards and steps per epsiode\n",
        "j_trace = []\n",
        "r_trace = []\n",
        "\n",
        "with tf.Session() as sess:\n",
        "    sess.run(tf.initialize_all_variables())\n",
        "    for i in range(num_episodes):\n",
        "        s = env.reset()\n",
        "        r_all = 0\n",
        "        done = False\n",
        "        j = 0\n",
        "        # Q Network Algorithm\n",
        "        for j in range(max_timesteps):\n",
        "            a, allQ = \n",
        "            if done:\n",
        "                break\n",
        "trace = pd.DataFrame(dict(steps=j_trace, reward=r_trace))"
      ],
      "execution_count": 0,
      "outputs": []
    },
    {
      "metadata": {
        "id": "d5WQw44ZSMbH",
        "colab_type": "code",
        "colab": {}
      },
      "cell_type": "code",
      "source": [
        ""
      ],
      "execution_count": 0,
      "outputs": []
    }
  ]
}