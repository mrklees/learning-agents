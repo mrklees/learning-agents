{
  "nbformat": 4,
  "nbformat_minor": 0,
  "metadata": {
    "colab": {
      "name": "1. First Steps.ipynb",
      "version": "0.3.2",
      "provenance": [],
      "include_colab_link": true
    },
    "kernelspec": {
      "name": "python3",
      "display_name": "Python 3"
    },
    "accelerator": "TPU"
  },
  "cells": [
    {
      "cell_type": "markdown",
      "metadata": {
        "id": "view-in-github",
        "colab_type": "text"
      },
      "source": [
        "<a href=\"https://colab.research.google.com/github/mrklees/learning-agents/blob/master/1_First_Steps.ipynb\" target=\"_parent\"><img src=\"https://colab.research.google.com/assets/colab-badge.svg\" alt=\"Open In Colab\"/></a>"
      ]
    },
    {
      "metadata": {
        "id": "Ghs9pvEeB6i4",
        "colab_type": "text"
      },
      "cell_type": "markdown",
      "source": [
        "# First Steps into RL\n",
        "\n",
        "As a getting started, let's walk through the [tutorial written by Arthur Juliani on Medium.](https://medium.com/emergent-future/simple-reinforcement-learning-with-tensorflow-part-0-q-learning-with-tables-and-neural-networks-d195264329d0)  It will give us a nice, practical orientation to the subject.  It focuses on using games from the OpenAI gym as a testing ground.  \n",
        "\n",
        "## First Algorithm: Q-Learning with a table of values\n",
        "In these first few notebooks we will be learning about the Q-Learning algorithm. The first example is the simplest case, and doesn't even use a neural network, but will hopefully give us a bit of intuition about what later implementations of the algorithm are doing.\n",
        "\n",
        "So how does the algorithm work.  Our Q-table maps every possible state/action combination to a reward. Each state is encoded in the rows and actions in the columns.  This becomes more concrete if we introduce our game: Frozen Lake. \n",
        "\n",
        "Frozen Lake is a game consisting of a 4 by 4 grid.  Our agent is placed on one side of the grid and must navigate the grid to a goal across the grid. There are some obstacles as well which kill the agent upon running into them.\n",
        "\n",
        "The Q-Table will clearly be (4x4=) 16 rows (denoted $s$) with 4 columns (denoted $a$), which we will initialize at 0.  It is then updated after each step per the Bellman equation.  \n",
        "\n",
        "$$ Q(s, a) = r + \\gamma(max(Q(s', a')) $$\n",
        "\n",
        "In English, this says that the value of each entry in the table, $Q(s, a)$, is given by the current known reward $r$ plus the maximum possible reward for the next state ($s'$) we would end up in. $\\gamma$ serves as a discount rate, which gives a dial to scale how important future rewards are compared to the present reward."
      ]
    },
    {
      "metadata": {
        "id": "CRZzH1rTB-Zy",
        "colab_type": "code",
        "colab": {}
      },
      "cell_type": "code",
      "source": [
        "# lol, gym is already installed in the Collab environment\n",
        "import gym\n",
        "import numpy as np\n",
        "import pandas as pd"
      ],
      "execution_count": 0,
      "outputs": []
    },
    {
      "metadata": {
        "id": "DC5clYPcC0H4",
        "colab_type": "code",
        "colab": {}
      },
      "cell_type": "code",
      "source": [
        "env = gym.make(\"FrozenLake-v0\")"
      ],
      "execution_count": 0,
      "outputs": []
    },
    {
      "metadata": {
        "id": "oNGLFqvOCb0e",
        "colab_type": "text"
      },
      "cell_type": "markdown",
      "source": [
        "## Q- Table Learning Algorithm"
      ]
    },
    {
      "metadata": {
        "id": "p4KN6ucLCzTd",
        "colab_type": "code",
        "colab": {}
      },
      "cell_type": "code",
      "source": [
        "# gym nicely tells us how many possible states and actions there are\n",
        "n_states, n_actions = env.observation_space.n, env.action_space.n"
      ],
      "execution_count": 0,
      "outputs": []
    },
    {
      "metadata": {
        "id": "fkvMXSbNESmY",
        "colab_type": "code",
        "outputId": "91b3746f-fbdf-499d-cb85-9696fc4fa9bd",
        "colab": {
          "base_uri": "https://localhost:8080/",
          "height": 408
        }
      },
      "cell_type": "code",
      "source": [
        "env.reset()\n",
        "\n",
        "env.env.render()\n",
        "\n",
        "print(env.step(0))\n",
        "\n",
        "env.env.render()\n",
        "\n",
        "print(env.step(0))\n",
        "\n",
        "env.env.render()\n",
        "\n",
        "print(env.step(0))\n",
        "\n",
        "env.env.render()"
      ],
      "execution_count": 0,
      "outputs": [
        {
          "output_type": "stream",
          "text": [
            "\n",
            "\u001b[41mS\u001b[0mFFF\n",
            "FHFH\n",
            "FFFH\n",
            "HFFG\n",
            "(0, 0.0, False, {'prob': 0.3333333333333333})\n",
            "  (Left)\n",
            "\u001b[41mS\u001b[0mFFF\n",
            "FHFH\n",
            "FFFH\n",
            "HFFG\n",
            "(0, 0.0, False, {'prob': 0.3333333333333333})\n",
            "  (Left)\n",
            "\u001b[41mS\u001b[0mFFF\n",
            "FHFH\n",
            "FFFH\n",
            "HFFG\n",
            "(0, 0.0, False, {'prob': 0.3333333333333333})\n",
            "  (Left)\n",
            "\u001b[41mS\u001b[0mFFF\n",
            "FHFH\n",
            "FFFH\n",
            "HFFG\n"
          ],
          "name": "stdout"
        }
      ]
    },
    {
      "metadata": {
        "id": "sSHBtGASFXJz",
        "colab_type": "code",
        "outputId": "9c38dd78-8238-4d74-e3c7-60ddf096fc23",
        "colab": {
          "base_uri": "https://localhost:8080/",
          "height": 34
        }
      },
      "cell_type": "code",
      "source": [
        "np.random.randn(1, n_actions)*(1./(1000+1))"
      ],
      "execution_count": 0,
      "outputs": [
        {
          "output_type": "execute_result",
          "data": {
            "text/plain": [
              "array([[-0.002455  ,  0.00038881,  0.00166438,  0.00123381]])"
            ]
          },
          "metadata": {
            "tags": []
          },
          "execution_count": 17
        }
      ]
    },
    {
      "metadata": {
        "id": "Gat9iFJAC3LY",
        "colab_type": "code",
        "outputId": "7f11a9ef-baaa-4f4e-b083-a73ee4307c8e",
        "colab": {
          "base_uri": "https://localhost:8080/",
          "height": 323
        }
      },
      "cell_type": "code",
      "source": [
        "# We initialize the values at 0 for all state/actions\n",
        "Q = np.zeros([n_states, n_actions])\n",
        "\n",
        "# Learning Parameters\n",
        "lr = 0.8 # scales the step we take to update our table\n",
        "y = 0.95 # The discount rate used in the Bellman Equation\n",
        "num_episodes = 2000 # number of times to train on the env\n",
        "max_timesteps = 99 # max number of tries to solve the puzzle in one episode\n",
        "# Track the rewards by episode\n",
        "r_trace = []\n",
        "for i in range(num_episodes):\n",
        "    # Reset environment and get first new observation\n",
        "    s = env.reset()\n",
        "    r_all = 0\n",
        "    d = False\n",
        "    # The Q-Table learning algorithm\n",
        "    for j in range(max_timesteps):\n",
        "        # Choose the best action from the Q-table, though allow for some noise.\n",
        "        # Notice that the (1 / (i+1)) term shrinks the noise values as the number\n",
        "        # of episodes increases.  Quite similar to the idea in simulated annealing!\n",
        "        a = np.argmax(Q[s,:] + np.random.randn(1, n_actions)*(1./(i+1)))\n",
        "        # Get new state and reward from the environment\n",
        "        s1, r, done, _ = env.step(a)\n",
        "        # Update Q-Table with new knowledge\n",
        "        Q[s, a] = Q[s, a] + lr*(r + y*np.max(Q[s1, :]) - Q[s, a])\n",
        "        r_all += r\n",
        "        s = s1\n",
        "        if done:\n",
        "            #print(f\"Episode finished after {j+1} timesteps\")\n",
        "            break\n",
        "    r_trace.append(r_all)\n",
        "\n",
        "trace = pd.DataFrame(dict(rewards = r_trace))\n",
        "print(f\"Score over time: {sum(r_trace)/num_episodes}\")\n",
        "print(\"Final Q-Table Values\")\n",
        "print(Q)"
      ],
      "execution_count": 0,
      "outputs": [
        {
          "output_type": "stream",
          "text": [
            "Score over time: 0.4395\n",
            "Final Q-Table Values\n",
            "[[2.12001211e-01 6.01741879e-03 1.35932239e-02 1.48776709e-02]\n",
            " [8.33653547e-05 2.83586077e-04 1.03903617e-03 2.21640112e-01]\n",
            " [2.09584458e-01 1.82756210e-03 3.77061235e-03 5.37358764e-03]\n",
            " [1.26380611e-03 1.65489977e-03 9.05680164e-04 5.27355201e-03]\n",
            " [2.28261774e-01 1.11570693e-03 1.10856424e-04 2.76426155e-04]\n",
            " [0.00000000e+00 0.00000000e+00 0.00000000e+00 0.00000000e+00]\n",
            " [3.93587356e-05 2.32074872e-06 1.22590231e-01 5.64524355e-05]\n",
            " [0.00000000e+00 0.00000000e+00 0.00000000e+00 0.00000000e+00]\n",
            " [1.33246445e-03 3.57222301e-03 4.02175391e-05 3.86136082e-01]\n",
            " [5.23123855e-04 5.24554619e-01 1.36152747e-03 3.91682557e-03]\n",
            " [6.10940950e-02 7.12458679e-04 2.91730047e-04 5.80847085e-04]\n",
            " [0.00000000e+00 0.00000000e+00 0.00000000e+00 0.00000000e+00]\n",
            " [0.00000000e+00 0.00000000e+00 0.00000000e+00 0.00000000e+00]\n",
            " [2.30818749e-03 0.00000000e+00 5.51834463e-01 3.83592403e-03]\n",
            " [0.00000000e+00 0.00000000e+00 0.00000000e+00 9.15069743e-01]\n",
            " [0.00000000e+00 0.00000000e+00 0.00000000e+00 0.00000000e+00]]\n"
          ],
          "name": "stdout"
        }
      ]
    },
    {
      "metadata": {
        "id": "_TmDhRQ4JwXK",
        "colab_type": "code",
        "outputId": "ae8db44a-91b6-4f42-994c-3b3d09b5bea2",
        "colab": {
          "base_uri": "https://localhost:8080/",
          "height": 364
        }
      },
      "cell_type": "code",
      "source": [
        "# Rolling average over how frequently the agent found a reward. \n",
        "trace.rolling(50).mean().plot()"
      ],
      "execution_count": 0,
      "outputs": [
        {
          "output_type": "execute_result",
          "data": {
            "text/plain": [
              "<matplotlib.axes._subplots.AxesSubplot at 0x7f395022ccc0>"
            ]
          },
          "metadata": {
            "tags": []
          },
          "execution_count": 7
        },
        {
          "output_type": "display_data",
          "data": {
            "image/png": "[encoded data removed]",
            "text/plain": [
              "<Figure size 576x396 with 1 Axes>"
            ]
          },
          "metadata": {
            "tags": []
          }
        }
      ]
    },
    {
      "metadata": {
        "id": "yYeF_aBrKMGK",
        "colab_type": "text"
      },
      "cell_type": "markdown",
      "source": [
        "### For the future\n",
        "Running this a few times and watching the trace, it is easy to see the stochastic nature of the agents.  Multiple runs don't necessarily converge with only 2000 episodes. There are also built in parameters, like the discount rate, which we could vary in order to vary the agent.  Which are the optimal parameter values is not at all clear.\n",
        "\n",
        "When we revisit this, we will try to refactor the code to more easily allow us to explore the space of possible agents.\n",
        "\n",
        "## Neural Network based approach\n",
        "\n",
        "There are clear limitation to the scalability of a table-like approach like the one above.  A neural network will more flexibly allow us to map sets of discrete (or continuous) states to reward values, and optimize the network in a way that we're already familiar. "
      ]
    },
    {
      "metadata": {
        "id": "r_N0hJAfPD03",
        "colab_type": "code",
        "colab": {}
      },
      "cell_type": "code",
      "source": [
        "import random\n",
        "import tensorflow as tf\n",
        "import matplotlib.pyplot as plt\n",
        "%matplotlib inline"
      ],
      "execution_count": 0,
      "outputs": []
    },
    {
      "metadata": {
        "id": "457NDrt6PS7w",
        "colab_type": "code",
        "colab": {}
      },
      "cell_type": "code",
      "source": [
        "class QNetwork:\n",
        "    def __init__(self, learning_rate=0.01, state_size=16, action_size=4, \n",
        "                 hidden_size=10, name=\"QNetwork\"):\n",
        "        with tf.variable_scope(name):\n",
        "            # In this case we encode the input state as a one-hot encoded vector\n",
        "            self.inputs_ = tf.placeholder(tf.float32, [None, state_size], name='inputs')\n",
        "\n",
        "            # One hot encode the actions to later choose the Q-value for the action\n",
        "            self.actions_ = tf.placeholder(tf.int32, [None], name='actions')\n",
        "            one_hot_actions = tf.one_hot(self.actions_, action_size)\n",
        "\n",
        "            # Target Q values for training\n",
        "            self.targetQs_ = tf.placeholder(tf.float32, [None], name='target')\n",
        "\n",
        "            # ReLU hidden layers\n",
        "            self.fc1 = tf.contrib.layers.fully_connected(self.inputs_, hidden_size)\n",
        "\n",
        "            # Output with linear activate (remember we want predictions of reward, not probabilities)\n",
        "            self.output = tf.contrib.layers.fully_connected(self.fc1, action_size, activation_fn=None)\n",
        "\n",
        "            # Optimization\n",
        "            self.loss = tf.reduce_sum(tf.square(self.targetQs_  - self.output))\n",
        "            self.opt = tf.train.AdamOptimizer(learning_rate).minimize(self.loss)"
      ],
      "execution_count": 0,
      "outputs": []
    },
    {
      "metadata": {
        "id": "c7QbfibTW8CX",
        "colab_type": "code",
        "colab": {}
      },
      "cell_type": "code",
      "source": [
        "state_size = 16\n",
        "action_size = 4\n",
        "\n",
        "# Learning Parameters\n",
        "num_episodes = 2000\n",
        "max_timesteps = 99\n",
        "y = 0.99\n",
        "\n",
        "# Exploration Paramters\n",
        "explore_start = 0.5     # What's the starting probability we perform a random move\n",
        "explore_stop = 0.01     # Minimum probability \n",
        "decay_rate = 0.001      # Rate at which we decay to the the minimum\n",
        "\n",
        "# Network Parameters\n",
        "hidden_size = 32        # Size of the hidden layer in the Q-network\n",
        "learning_rate = 0.001   # Learning rate of our optimizer\n",
        "\n",
        "# Memory Parameters\n",
        "memory_size = 10000\n",
        "batch_size = 20"
      ],
      "execution_count": 0,
      "outputs": []
    },
    {
      "metadata": {
        "id": "apXv35ZBSKOI",
        "colab_type": "code",
        "outputId": "5e6f8951-bc45-4912-dc04-68563c17e58b",
        "colab": {
          "base_uri": "https://localhost:8080/",
          "height": 697
        }
      },
      "cell_type": "code",
      "source": [
        "## Works with QNetwork\n",
        "\n",
        "# Reset the graph\n",
        "tf.reset_default_graph()\n",
        "qnet = QNetwork(name='main', hidden_size=hidden_size, learning_rate=learning_rate)\n",
        "\n",
        "saver = tf.train.Saver()\n",
        "#create lists to contain total rewards and steps per epsiode\n",
        "step_trace = []\n",
        "reward_trace = []\n",
        "with tf.Session() as sess:\n",
        "    # Tensorflow boilerplate\n",
        "    sess.run(tf.initialize_all_variables())\n",
        "    \n",
        "    # The training loop\n",
        "    for i in range(1, num_episodes+1):\n",
        "        total_reward = 0\n",
        "        Qs = None\n",
        "        loss = 0\n",
        "        s = env.reset()\n",
        "        # Execute a full episode\n",
        "        for step in range(max_timesteps):\n",
        "            # Uncomment to render training\n",
        "            #env.render()\n",
        "            \n",
        "            # Get one-hot encoding of the state\n",
        "            s_ = np.identity(state_size)[s:s+1]\n",
        "            # Use the state with the Q-network \n",
        "            feed = {qnet.inputs_: s_}\n",
        "            Qs = sess.run(qnet.output, feed_dict=feed)\n",
        "            \n",
        "            # Randomly decide to explore or exploit with a decaying probability to explore\n",
        "            explore_p = explore_stop + (explore_start - explore_stop)*np.exp(-decay_rate*i)\n",
        "            if explore_p > np.random.rand():\n",
        "                # Make a random action\n",
        "                action = env.action_space.sample()\n",
        "            else:\n",
        "                action = np.argmax(Qs)\n",
        "            \n",
        "            # Take action and get result\n",
        "            next_state, reward, done, _ = env.step(action)\n",
        "            \n",
        "            total_reward += reward\n",
        "                \n",
        "            # Train Network\n",
        "            # Once again get a one-hot encoding of the next state\n",
        "            s_next_ = np.identity(state_size)[next_state:next_state+1]\n",
        "            # Network then \n",
        "            q_next = sess.run(qnet.output, feed_dict={qnet.inputs_: s_next_})\n",
        "            #print(q_next)\n",
        "            max_q = np.max(q_next)\n",
        "            target_q = Qs\n",
        "            target_q[0, action] = reward + y*max_q\n",
        "            \n",
        "            #print(target_q)\n",
        "            loss, _ = sess.run([qnet.loss, qnet.opt],\n",
        "                               feed_dict={qnet.inputs_: s_,\n",
        "                                          qnet.targetQs_: target_q[0, :],\n",
        "                                          qnet.actions_: [action]})\n",
        "            \n",
        "            if done:\n",
        "                if i % 50 == 0:\n",
        "                    print(f'Episode: {i}',\n",
        "                          f'Total reward: {total_reward}',\n",
        "                          f'Training loss: {loss}',\n",
        "                          f'Explore P: {explore_p}')\n",
        "                reward_trace.append(total_reward)\n",
        "                step_trace.append(i)\n",
        "                break\n",
        "            else:\n",
        "                s = next_state\n",
        "    \n",
        "    trace = pd.DataFrame(dict(steps=step_trace, rewards=reward_trace))\n",
        "    saver.save(sess, 'checkpoints/frozenlake.ckpt')\n",
        "    "
      ],
      "execution_count": 0,
      "outputs": [
        {
          "output_type": "stream",
          "text": [
            "Episode: 50 Total reward: 0.0 Training loss: 0.0007804182241670787 Explore P: 0.47610241800534986\n",
            "Episode: 100 Total reward: 0.0 Training loss: 0.00020986967138014734 Explore P: 0.4533703348376202\n",
            "Episode: 150 Total reward: 0.0 Training loss: 0.020799338817596436 Explore P: 0.43174690844827834\n",
            "Episode: 200 Total reward: 0.0 Training loss: 0.002874961821362376 Explore P: 0.4111780690082111\n",
            "Episode: 250 Total reward: 0.0 Training loss: 0.0096318693831563 Explore P: 0.3916123837049884\n",
            "Episode: 300 Total reward: 0.0 Training loss: 0.008709970861673355 Explore P: 0.3730009281340418\n",
            "Episode: 350 Total reward: 0.0 Training loss: 0.20637959241867065 Explore P: 0.3552971639621696\n",
            "Episode: 400 Total reward: 0.0 Training loss: 0.006213849876075983 Explore P: 0.3384568225574633\n",
            "Episode: 450 Total reward: 0.0 Training loss: 0.01845725066959858 Explore P: 0.32243779429466896\n",
            "Episode: 500 Total reward: 0.0 Training loss: 0.020186644047498703 Explore P: 0.3072000232591904\n",
            "Episode: 550 Total reward: 1.0 Training loss: 0.06433732807636261 Explore P: 0.29270540708643844\n",
            "Episode: 600 Total reward: 0.0 Training loss: 0.013060105964541435 Explore P: 0.27891770168607294\n",
            "Episode: 650 Total reward: 0.0 Training loss: 0.07296102494001389 Explore P: 0.2658024306128979\n",
            "Episode: 700 Total reward: 0.0 Training loss: 0.0028724183794111013 Explore P: 0.25332679885779064\n",
            "Episode: 750 Total reward: 0.0 Training loss: 0.0017735605360940099 Explore P: 0.2414596108430972\n",
            "Episode: 800 Total reward: 0.0 Training loss: 0.03715692088007927 Explore P: 0.23017119241743858\n",
            "Episode: 850 Total reward: 0.0 Training loss: 0.0010887241223827004 Explore P: 0.2194333166548761\n",
            "Episode: 900 Total reward: 0.0 Training loss: 0.011263526976108551 Explore P: 0.20921913327289357\n",
            "Episode: 950 Total reward: 0.0 Training loss: 0.06003972142934799 Explore P: 0.1995031014927056\n",
            "Episode: 1000 Total reward: 0.0 Training loss: 0.1399872750043869 Explore P: 0.19026092617400675\n",
            "Episode: 1050 Total reward: 0.0 Training loss: 0.14505894482135773 Explore P: 0.1814694970644661\n",
            "Episode: 1100 Total reward: 0.0 Training loss: 0.025477759540081024 Explore P: 0.17310683101205898\n",
            "Episode: 1150 Total reward: 0.0 Training loss: 0.0029705341439694166 Explore P: 0.16515201699573606\n",
            "Episode: 1200 Total reward: 0.0 Training loss: 0.0093475840985775 Explore P: 0.15758516383697904\n",
            "Episode: 1250 Total reward: 0.0 Training loss: 0.00034333037910982966 Explore P: 0.15038735046149315\n",
            "Episode: 1300 Total reward: 0.0 Training loss: 0.00015316416101995856 Explore P: 0.1435405785866662\n",
            "Episode: 1350 Total reward: 0.0 Training loss: 0.00043782260036095977 Explore P: 0.13702772771648686\n",
            "Episode: 1400 Total reward: 0.0 Training loss: 0.0022023424971848726 Explore P: 0.13083251233138715\n",
            "Episode: 1450 Total reward: 0.0 Training loss: 0.0005690653342753649 Explore P: 0.12493944116596084\n",
            "Episode: 1500 Total reward: 0.0 Training loss: 0.0009404909214936197 Explore P: 0.1193337784727306\n",
            "Episode: 1550 Total reward: 1.0 Training loss: 0.024682270362973213 Explore P: 0.11400150717510409\n",
            "Episode: 1600 Total reward: 0.0 Training loss: 7.532353629358113e-05 Explore P: 0.10892929381738113\n",
            "Episode: 1650 Total reward: 0.0 Training loss: 0.009958705864846706 Explore P: 0.10410445522416949\n",
            "Episode: 1700 Total reward: 0.0 Training loss: 0.03139872848987579 Explore P: 0.09951492678583998\n",
            "Episode: 1750 Total reward: 0.0 Training loss: 0.07609470188617706 Explore P: 0.09514923229071812\n",
            "Episode: 1800 Total reward: 0.0 Training loss: 0.00041334089473821223 Explore P: 0.0909964552285774\n",
            "Episode: 1850 Total reward: 0.0 Training loss: 0.03702506795525551 Explore P: 0.08704621149367753\n",
            "Episode: 1900 Total reward: 0.0 Training loss: 0.0001283988094655797 Explore P: 0.08328862341909116\n",
            "Episode: 1950 Total reward: 0.0 Training loss: 0.0003540012694429606 Explore P: 0.07971429507739165\n",
            "Episode: 2000 Total reward: 1.0 Training loss: 0.028018170967698097 Explore P: 0.07631428878594022\n"
          ],
          "name": "stdout"
        }
      ]
    },
    {
      "metadata": {
        "id": "oPpsmHeRjZJ2",
        "colab_type": "code",
        "outputId": "a852570c-efb5-40e7-f9d1-04a5856137f1",
        "colab": {
          "base_uri": "https://localhost:8080/",
          "height": 282
        }
      },
      "cell_type": "code",
      "source": [
        "trace.rewards.rolling(50).mean().plot()"
      ],
      "execution_count": 0,
      "outputs": [
        {
          "output_type": "execute_result",
          "data": {
            "text/plain": [
              "<matplotlib.axes._subplots.AxesSubplot at 0x7f50716e4a20>"
            ]
          },
          "metadata": {
            "tags": []
          },
          "execution_count": 80
        },
        {
          "output_type": "display_data",
          "data": {
            "image/png": "[encoded data removed]",
            "text/plain": [
              "<Figure size 432x288 with 1 Axes>"
            ]
          },
          "metadata": {
            "tags": []
          }
        }
      ]
    },
    {
      "metadata": {
        "id": "z4xChll32PiE",
        "colab_type": "text"
      },
      "cell_type": "markdown",
      "source": [
        "## Uh, oh What's happening neural network?\n",
        "\n",
        "After some adjusting with the hyperparameters, we finally started to find an agent who learns. The biggest noticable difference is that the Q-Table worked much quicker.  The Q-Table attains success rates of around 70% at 750 episodes.  The neural network doesn't even get close to this. Already too, we can see the influence of the hyperparameters.\n",
        "\n",
        "We will want to think about how we will explore the hyperparameter space for agents of different models. "
      ]
    },
    {
      "metadata": {
        "id": "lYw0pd68tooQ",
        "colab_type": "code",
        "colab": {}
      },
      "cell_type": "code",
      "source": [
        "a = np.array([[0.02142065, 0.12479559, 0.02744279, 0.0824732 ]])\n",
        "np.max(a)"
      ],
      "execution_count": 0,
      "outputs": []
    },
    {
      "metadata": {
        "id": "d5WQw44ZSMbH",
        "colab_type": "code",
        "colab": {}
      },
      "cell_type": "code",
      "source": [
        "state, reward, done, _ = env.step(env.action_space.sample())\n",
        "state"
      ],
      "execution_count": 0,
      "outputs": []
    },
    {
      "metadata": {
        "id": "2Jay09TibA6f",
        "colab_type": "code",
        "colab": {}
      },
      "cell_type": "code",
      "source": [
        "np.identity(16)[5:5+1]"
      ],
      "execution_count": 0,
      "outputs": []
    },
    {
      "metadata": {
        "id": "I-kx8BNNdmJp",
        "colab_type": "code",
        "colab": {}
      },
      "cell_type": "code",
      "source": [
        ""
      ],
      "execution_count": 0,
      "outputs": []
    }
  ]
}